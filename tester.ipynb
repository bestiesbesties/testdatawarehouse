{
 "cells": [
  {
   "cell_type": "code",
   "execution_count": 24,
   "metadata": {},
   "outputs": [],
   "source": [
    "# %pip install requests pandas\n",
    "from datawarehouse.fmp import FMP "
   ]
  },
  {
   "cell_type": "code",
   "execution_count": 26,
   "metadata": {},
   "outputs": [
    {
     "data": {
      "text/plain": [
       "datawarehouse.fmp.FMP"
      ]
     },
     "execution_count": 26,
     "metadata": {},
     "output_type": "execute_result"
    }
   ],
   "source": [
    "FMP"
   ]
  },
  {
   "cell_type": "code",
   "execution_count": 29,
   "metadata": {},
   "outputs": [
    {
     "ename": "FileNotFoundError",
     "evalue": "[Errno 2] No such file or directory: 'data/price full/'",
     "output_type": "error",
     "traceback": [
      "\u001b[0;31m---------------------------------------------------------------------------\u001b[0m",
      "\u001b[0;31mFileNotFoundError\u001b[0m                         Traceback (most recent call last)",
      "\u001b[1;32m/Users/leyton/Documents/leerjaar2/AAmachinelearning/datawarehouse/tester.ipynb Cell 3\u001b[0m line \u001b[0;36m2\n\u001b[1;32m      <a href='vscode-notebook-cell:/Users/leyton/Documents/leerjaar2/AAmachinelearning/datawarehouse/tester.ipynb#W2sZmlsZQ%3D%3D?line=0'>1</a>\u001b[0m a \u001b[39m=\u001b[39m FMP()\n\u001b[0;32m----> <a href='vscode-notebook-cell:/Users/leyton/Documents/leerjaar2/AAmachinelearning/datawarehouse/tester.ipynb#W2sZmlsZQ%3D%3D?line=1'>2</a>\u001b[0m d \u001b[39m=\u001b[39m a\u001b[39m.\u001b[39;49mstock_exchange_days(start\u001b[39m=\u001b[39;49m\u001b[39m'\u001b[39;49m\u001b[39m2023-01-01\u001b[39;49m\u001b[39m'\u001b[39;49m,end\u001b[39m=\u001b[39;49m\u001b[39m'\u001b[39;49m\u001b[39m2023-02-01\u001b[39;49m\u001b[39m'\u001b[39;49m, ticker\u001b[39m=\u001b[39;49m\u001b[39m'\u001b[39;49m\u001b[39mAAPL\u001b[39;49m\u001b[39m'\u001b[39;49m)\n",
      "File \u001b[0;32m~/Documents/leerjaar2/AAmachinelearning/datawarehouse/datawarehouse/fmp.py:134\u001b[0m, in \u001b[0;36mFMP.stock_exchange_days\u001b[0;34m(self, start, end, ticker)\u001b[0m\n\u001b[1;32m    132\u001b[0m path \u001b[39m=\u001b[39m \u001b[39m'\u001b[39m\u001b[39mdata/price full/\u001b[39m\u001b[39m'\u001b[39m\n\u001b[1;32m    133\u001b[0m \u001b[39m# check if file exists\u001b[39;00m\n\u001b[0;32m--> 134\u001b[0m \u001b[39mfor\u001b[39;00m file \u001b[39min\u001b[39;00m os\u001b[39m.\u001b[39;49mlistdir(path):\n\u001b[1;32m    135\u001b[0m     \u001b[39mif\u001b[39;00m file\u001b[39m.\u001b[39mstartswith(\u001b[39mf\u001b[39m\u001b[39m\"\u001b[39m\u001b[39m{\u001b[39;00mticker\u001b[39m}\u001b[39;00m\u001b[39m price 1970-01-01\u001b[39m\u001b[39m\"\u001b[39m):\n\u001b[1;32m    136\u001b[0m         filename \u001b[39m=\u001b[39m file\n",
      "\u001b[0;31mFileNotFoundError\u001b[0m: [Errno 2] No such file or directory: 'data/price full/'"
     ]
    }
   ],
   "source": [
    "a = FMP()\n",
    "d = a.stock_exchange_days(start='2023-01-01',end='2023-02-01', ticker='AAPL')"
   ]
  },
  {
   "cell_type": "code",
   "execution_count": 22,
   "metadata": {},
   "outputs": [
    {
     "ename": "AttributeError",
     "evalue": "module 'datawarehouse.fmp' has no attribute 'recent_stock_info'",
     "output_type": "error",
     "traceback": [
      "\u001b[0;31m---------------------------------------------------------------------------\u001b[0m",
      "\u001b[0;31mAttributeError\u001b[0m                            Traceback (most recent call last)",
      "\u001b[1;32m/Users/leyton/Documents/leerjaar2/AAmachinelearning/datawarehouse/tester.ipynb Cell 4\u001b[0m line \u001b[0;36m1\n\u001b[0;32m----> <a href='vscode-notebook-cell:/Users/leyton/Documents/leerjaar2/AAmachinelearning/datawarehouse/tester.ipynb#W3sZmlsZQ%3D%3D?line=0'>1</a>\u001b[0m datawarehouse\u001b[39m.\u001b[39;49mfmp\u001b[39m.\u001b[39;49mrecent_stock_info()\n",
      "\u001b[0;31mAttributeError\u001b[0m: module 'datawarehouse.fmp' has no attribute 'recent_stock_info'"
     ]
    }
   ],
   "source": [
    "datawarehouse.fmp.recent_stock_info()"
   ]
  },
  {
   "cell_type": "code",
   "execution_count": null,
   "metadata": {},
   "outputs": [],
   "source": []
  }
 ],
 "metadata": {
  "kernelspec": {
   "display_name": "prog",
   "language": "python",
   "name": "python3"
  },
  "language_info": {
   "codemirror_mode": {
    "name": "ipython",
    "version": 3
   },
   "file_extension": ".py",
   "mimetype": "text/x-python",
   "name": "python",
   "nbconvert_exporter": "python",
   "pygments_lexer": "ipython3",
   "version": "3.9.16"
  }
 },
 "nbformat": 4,
 "nbformat_minor": 2
}
